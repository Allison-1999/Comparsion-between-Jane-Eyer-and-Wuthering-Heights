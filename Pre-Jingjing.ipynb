{
 "cells": [
  {
   "cell_type": "markdown",
   "metadata": {},
   "source": [
    "## Is Wuthering Heights a crappy nevol while Jane Eyre is a world-renowned masterpiece?"
   ]
  },
  {
   "cell_type": "markdown",
   "metadata": {},
   "source": [
    "- We rise from the perusal of Wuthering Heights as if we had come fresh from a pest-house. Read Jane Eyre is our advice, but burn Wuthering Heights…(Paterson’s Magazine (USA), March 1848)\n",
    "- How a human being could have attempted such a book as the present without committing suicide before he had finished a dozen chapters, is a mystery. It is a compound of vulgar depravity and unnatural horrors…(Graham’s Lady’s Magazine (USA),July 1848)\n",
    "- Here all the faults of Jane Eyre (by Charlotte Brontë) are magnified a thousand fold, and the only consolation which we have in reflecting upon it is that it will never be generally read.(James Lorimer,1847)"
   ]
  },
  {
   "cell_type": "markdown",
   "metadata": {},
   "source": [
    "### Compare _Jane Eyre_ and _Wuthering Heights_ through following aspect:\n",
    "- **Content**\n",
    "    - Semantic Analysis: W6-9 and J36-38 are almost the same. \n",
    "    - Sentiment Analysis:![jupyter](https://github.com/BoseWei/Comparsion-between-Jane-Eyer-and-Wuthering-Heights/blob/master/Sentiment.png?raw=true)\n",
    "    - Longest Ngrams: \"a glorious thing to have the hope of living with you\" Vs. \"by common humanity, and a sense of duty'\n",
    "- **Motif**\n",
    "    - Dispersion_plot: 'love', 'hate', 'study', 'education', 'money', 'live', 'death', 'hope', 'hopeless', 'despair'\n",
    "    - LDA-Topic modeling:\n",
    "        - said did rochester jane like little sir miss thought shall\n",
    "        - bessie tart plate pages tales paradise interesting introductory bewick phantoms\n",
    "        - linton catherine heathcliff said did shall master edgar little time\n",
    "- **Writing Style**\n",
    "    - Type token ratio: _Jane Eyre_: 0.0666, _Wuthering Heights_: 0.0798\n",
    "    - Pattern: Like a JJ NN->analogy\n",
    "    - Stylometry: \n",
    "        - do differnent\n",
    "        - WH-XXX and JE-XXXVIII--CONCLUSION are most same two chapters.\n",
    "    - Word Propotions: first-person narration Vs. third-person narration.\n",
    "- **Character**\n",
    "    - Social Network:![jupyter](https://github.com/BoseWei/Comparsion-between-Jane-Eyer-and-Wuthering-Heights/blob/master/SocialNetwork.png?raw=true)\n",
    "    - Character Relationships Distance: JE value > WH value  \n",
    "    \n",
    "|WH-Name |Hindley   |Catherine    |Cathy    |Heathcliff  |Hareton     |Edgar     |Isabella |**JE-Name**| Jane   | Rochester   |  John   |   Helen  |   Rosamond   |  Mary    |  Eliza  | \n",
    "|:-----------|:----:|:----:|:------:|:-------------:|:-----------:|:----------:|:---------:|:---------|:----:|:----:|:------:|:-------------:|:-----------:|:----------:|:---------:|\n",
    "| **Hindley** |       0      | 57064.44  | 50544.79  | 50938.81  | 71001.92   |35936.03 |  32632.77 | **Jane**       |    0     |  73509.71  | 83380.48 | 117774.96 |  72589.11  | 77949.43  | 90010.99 | \n",
    "| **Catherine**  | 57064.44   |   0  |     49950.26  | 53565.18 | 52648.36  | 48684.54 |  48117.04 | **Rochester** |  73509.71  |    0     |  89339.08 |  91529.52  | 86826.75 |  83329.91  | 71642.94 | \n",
    "|**Cathy**    |   50544.79  | 49950.26  |    0     |  52173.06|   55432.11|   45687.68  | 44614.33 |**John**      |  83380.48  | 89339.08 |     0     | 145422.52  | 51832.43 |  68136.98  |114951.44  |\n",
    "|**Heathcliff**  |50938.81 |  53565.18 |  52173.06 |     0     |  59516.00  | 46792.99|   45332.24  |**Helen**     | 117774.96 |  91529.52 | 145422.52 |     0     | 170952.35 | 148481.36 |  67962.01  |\n",
    "|**Hareton**    | 71001.92 |  52648.36 |  55432.11  | 59516.00   |   0    |   59624.88  | 60283.12  |**Rosamond**  |  72589.11  | 86826.75  | 51832.43 | 170952.35 |     0     |  42853.51 | 125561.96 | \n",
    "|**Edgar**     |  35936.03 |  48684.54 |  45687.68 |  46792.99 |  59624.88  |    0    |   30160.13  |**Mary**     |   77949.43 |  83329.91 |  68136.98 | 148481.36  | 42853.51  |    0     | 114375.59 | \n",
    "|**Isabella**   | 32632.77  | 48117.04  | 44614.33  | 45332.24 |  60283.12  | 30160.13  |    0     |**Eliza**     |  90010.99 |  71642.94 | 114951.44 |  67962.01 |  125561.96 | 114375.59 |     0     |"
   ]
  },
  {
   "cell_type": "markdown",
   "metadata": {},
   "source": [
    "### Compare _Jane Eyre_ and _Wuthering Heights_ through following aspect:"
   ]
  },
  {
   "cell_type": "markdown",
   "metadata": {},
   "source": [
    "|         Novel | Content | Motif | Sentiment | Writing Style | Characters |Author|\n",
    "|:------------------- |:----:|:----:|:------:|:-----------------:|:-------------:|:-------------:|\n",
    "| **_Jane Eyre_**         | Jane Eyre's life, from her miserable childhood to her romantic love with Mr. Rochester | equality, dignity, respect, and love. | Positive | first-person narration; Vivid description(dialog, analogy) | Jane is core. Relationship between characters is simple |Charlotte: Sensitive, full of emotion|\n",
    "| **_Whthering Heights_** | Heathcliff's crazy revenge and his wild love with Catherine. |equality, love, hope, human nature recovery      | Negative | third-person narration; long narration | Heathcliff and Catherine are cores. Relationship between characters is cpmplex |Emily: had less emotion, have common moral values. Fantastic imagination|\n",
    "| **Conclusion** | Almost totally different. Some contents are similar: love, the revolt of bottom class people and the pursuit of a happy life. | Same: the pursuit of love, hope, and equality. Different: moderate advocates for equality Vs. radical revolt and revenge | people love it Vs. hard to appreciate | evoke a kind of empathy and engagemen, easy to read Vs. difficult to read and understand | Simple Vs. Complex |Emily is an introverted person, but not a strange woman|\n",
    "\n"
   ]
  },
  {
   "cell_type": "markdown",
   "metadata": {},
   "source": [
    "#### _**These two works are like two gemstones with different colors, both are beautiful and shine like stars.**_"
   ]
  }
 ],
 "metadata": {
  "kernelspec": {
   "display_name": "Python 3",
   "language": "python",
   "name": "python3"
  },
  "language_info": {
   "codemirror_mode": {
    "name": "ipython",
    "version": 3
   },
   "file_extension": ".py",
   "mimetype": "text/x-python",
   "name": "python",
   "nbconvert_exporter": "python",
   "pygments_lexer": "ipython3",
   "version": "3.7.3"
  }
 },
 "nbformat": 4,
 "nbformat_minor": 2
}
