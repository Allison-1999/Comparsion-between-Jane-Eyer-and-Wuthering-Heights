{
 "cells": [
  {
   "cell_type": "markdown",
   "metadata": {},
   "source": [
    "# Comparsion between _Jane Eyer_ and _Wuthering Heights_: \n",
    "# Is _Wuthering Heights_ a crappy nevol while _Jane Eyre_ is a world-renowned masterpiece? "
   ]
  },
  {
   "cell_type": "markdown",
   "metadata": {},
   "source": [
    "# Introduction"
   ]
  },
  {
   "cell_type": "markdown",
   "metadata": {},
   "source": [
    "_Jane Eyre_ and _Wuthering Heights_ are the two pearls of the 19th century literary. They were written by Charlotte Bronte and Emily Bronte, who were two sisters of the Bronte sisters. Since a long time ago, the critics have been comparing the contents, styles, and values of these two works and the two authors. \n",
    "\n",
    "The publication history of and critical response to _Wuthering Heights_ and _Jane Eyre_ are intertwined. _Wuthering Heights_ was accepted for publication before Charlotte had finished writing _Jane Eyre_. However, the publisher delayed bringing _Wuthering Heights_ out, with the result that _Jane Eyre_ was published first. Then, _Jane Eyre_ became a best seller.\n",
    "\n",
    "Initially _Jane Eyre_ was regarded as the best of the Brontë sisters' novels, a judgment which continued nearly to the end of the century. By the 1880s critics began to place Emily's achievement above Charlotte's; a major factor in this shift was Mary Robinson's book-length biography of Emily (1883). In 1926, Charles Percy Sanger worked out the chronology of _Wuthering Heights_ by closely examining the text; though other critics have since worked out alternate chronologies, his work affirmed Emily's literary craft and meticulous planning of the novel and disproved Charlotte's presentation of her sister as an unconscious artist who \"did not know what she had done.\" "
   ]
  },
  {
   "cell_type": "markdown",
   "metadata": {},
   "source": [
    "Until now, critics are constantly arguing about these two novels. Some critics' words are as followed:\n",
    "- Here all the faults of Jane Eyre (by Charlotte Brontë) are magnified a thousand fold, and the only consolation which we have in reflecting upon it is that it will never be generally read.(James Lorimer,1847)\n",
    "- We rise from the perusal of Wuthering Heights as if we had come fresh from a pest-house. Read Jane Eyre is our advice, but burn Wuthering Heights…(Paterson’s Magazine (USA), March 1848)\n",
    "- How a human being could have attempted such a book as the present without committing suicide before he had finished a dozen chapters, is a mystery. It is a compound of vulgar depravity and unnatural horrors…(Graham’s Lady’s Magazine (USA),July 1848)"
   ]
  },
  {
   "cell_type": "markdown",
   "metadata": {},
   "source": [
    "Some people said that Jane Eyre's plot is simple and lacks profound thinking of society and literary value, while some people said Wuthering Heights is an evil novel with wrong values. It is not difficult to find out that each critic's attitude towards these two books are different because their attitudes were based on their preferences, life experience and so on. Just as a famous quote from Shakespeare. There are a thousand Hamlets in a thousand people's eyes. (Shakespeare) The critic's comments are always subjective, and can’t be completely objective."
   ]
  },
  {
   "cell_type": "markdown",
   "metadata": {},
   "source": [
    "Comparing with the unavoidable subjective judgments from critics, computer algorithms will analyze these two books more objectively. In this project, I will apply some techniques of Digital Humanities to analyze the contents, motif, topic and writing style of these two books, focusing on drawing more objective conclusions of their characteristics. Then I will use experimental results to explain why some critics made such comments. Through this project, we can appreciate these two famous novels more objectively and rationally without prejudices and biases."
   ]
  },
  {
   "cell_type": "markdown",
   "metadata": {},
   "source": [
    "# Experiment-Computational Analysis"
   ]
  },
  {
   "cell_type": "code",
   "execution_count": 95,
   "metadata": {},
   "outputs": [],
   "source": [
    "#import modules that will be used in experiment\n",
    "import nltk\n",
    "from nltk.corpus import sentiwordnet as sw\n",
    "from nltk.corpus import wordnet as wn\n",
    "from nltk.corpus import stopwords\n",
    "import requests\n",
    "import collections\n",
    "import statistics\n",
    "import numpy as np\n",
    "import pandas as pd\n",
    "import sklearn\n",
    "from sklearn.decomposition import LatentDirichletAllocation\n",
    "from sklearn.decomposition import PCA\n",
    "from sklearn.feature_extraction.text import TfidfVectorizer, CountVectorizer\n",
    "import pyLDAvis.sklearn\n",
    "from more_itertools import chunked\n",
    "from itertools import combinations\n",
    "import networkx as nx\n",
    "import holoviews as hv\n",
    "import spacy\n",
    "from spacy import displacy\n",
    "import matplotlib.pyplot as plt\n",
    "from mpl_toolkits.mplot3d import Axes3D\n",
    "%matplotlib inline\n",
    "#figures configuration\n",
    "plt.rcParams['figure.figsize'] = [10, 6]"
   ]
  },
  {
   "cell_type": "code",
   "execution_count": 3,
   "metadata": {},
   "outputs": [],
   "source": [
    "# load models will be used in experiment\n",
    "nlp = spacy.load('en_core_web_lg')"
   ]
  },
  {
   "cell_type": "code",
   "execution_count": 4,
   "metadata": {},
   "outputs": [],
   "source": [
    "# set max_length configuration\n",
    "nlp.max_length=3000000"
   ]
  },
  {
   "cell_type": "markdown",
   "metadata": {},
   "source": [
    "### Preparation Work"
   ]
  },
  {
   "cell_type": "markdown",
   "metadata": {},
   "source": [
    "#### Corpus and format"
   ]
  },
  {
   "cell_type": "code",
   "execution_count": 5,
   "metadata": {},
   "outputs": [],
   "source": [
    "#open files for later analysis\n",
    "janeEyre=open(\"JaneEyre.md\",encoding='UTF-8').read()\n",
    "wutheringHeights=open(\"WutheringHeights.md\",encoding='UTF-8').read()"
   ]
  },
  {
   "cell_type": "code",
   "execution_count": 40,
   "metadata": {},
   "outputs": [],
   "source": [
    "#define titles of two novels\n",
    "titles=['Jane Eyre','Wuthering Heights']"
   ]
  },
  {
   "cell_type": "code",
   "execution_count": 6,
   "metadata": {},
   "outputs": [],
   "source": [
    "#using Spacy to create docs\n",
    "janeEyreDocs=nlp(janeEyre)\n",
    "wutheringHeightsDocs=nlp(wutheringHeights)"
   ]
  },
  {
   "cell_type": "code",
   "execution_count": 7,
   "metadata": {},
   "outputs": [],
   "source": [
    "janeEyreSents=janeEyreDocs.sents\n",
    "wutheringHeightsSents=wutheringHeightsDocs.sents"
   ]
  },
  {
   "cell_type": "code",
   "execution_count": 8,
   "metadata": {},
   "outputs": [],
   "source": [
    "#create word tokens\n",
    "janeEyreTokens=nltk.word_tokenize(janeEyre)\n",
    "wutheringHeightsTokens=nltk.word_tokenize(wutheringHeights)"
   ]
  },
  {
   "cell_type": "code",
   "execution_count": 9,
   "metadata": {},
   "outputs": [],
   "source": [
    "#Clean the tokens\n",
    "janeEyreTokensClean = [token.lower() for token in janeEyreTokens if token.isalpha()]\n",
    "wutheringHeightsTokensClean = [token.lower() for token in wutheringHeightsTokens if token.isalpha()]"
   ]
  },
  {
   "cell_type": "code",
   "execution_count": 10,
   "metadata": {},
   "outputs": [],
   "source": [
    "#change format to Text\n",
    "janeEyreText=nltk.Text(janeEyreTokensClean)\n",
    "wutheringHeightsText=nltk.Text(wutheringHeightsTokensClean)"
   ]
  },
  {
   "cell_type": "code",
   "execution_count": 11,
   "metadata": {},
   "outputs": [],
   "source": [
    "#create tags\n",
    "janeEyreTags=nltk.pos_tag(janeEyreTokensClean)\n",
    "wutheringHeightsTags=nltk.pos_tag(wutheringHeightsTokensClean)"
   ]
  },
  {
   "cell_type": "markdown",
   "metadata": {},
   "source": [
    "#### Split nevols by contents"
   ]
  },
  {
   "cell_type": "code",
   "execution_count": 12,
   "metadata": {},
   "outputs": [],
   "source": [
    "#chapter 1-9: Jane's chlidhood\n",
    "janeEyre0=janeEyre.split('## CHAPTER I')[1].split('## CHAPTER X')[0]"
   ]
  },
  {
   "cell_type": "code",
   "execution_count": 13,
   "metadata": {},
   "outputs": [],
   "source": [
    "#chapter 10-26: Jane live in Thornfield Manor\n",
    "janeEyre1=janeEyre.split('## CHAPTER X')[1].split('## CHAPTER XXVII')[0]"
   ]
  },
  {
   "cell_type": "code",
   "execution_count": 14,
   "metadata": {},
   "outputs": [],
   "source": [
    "#chapter27-35: Jane Eyre leave Thornfield Manor\n",
    "janeEyre2=janeEyre.split('## CHAPTER XXVII')[1].split('## CHAPTER XXXVI')[0]"
   ]
  },
  {
   "cell_type": "code",
   "execution_count": 15,
   "metadata": {},
   "outputs": [],
   "source": [
    "#chapter36-38: Jane Eyre back to Thornfield Manor and married with Mr. Rochester.\n",
    "janeEyre3=janeEyre.split('## CHAPTER XXXVI')[1]"
   ]
  },
  {
   "cell_type": "code",
   "execution_count": 16,
   "metadata": {},
   "outputs": [],
   "source": [
    "janeEyreParts=[janeEyre0,janeEyre1,janeEyre2,janeEyre3]"
   ]
  },
  {
   "cell_type": "code",
   "execution_count": 17,
   "metadata": {},
   "outputs": [],
   "source": [
    "#chapter 1-5: Heathcliff live in Wuthering Heights\n",
    "wutheringHeights0=wutheringHeights.split('## CHAPTER I')[1].split('## CHAPTER VI')[0]"
   ]
  },
  {
   "cell_type": "code",
   "execution_count": 18,
   "metadata": {},
   "outputs": [],
   "source": [
    "#chapter 6-9: Heathcliff was abused and leave Wuthering Heights; Catherine married to Linton\n",
    "wutheringHeights1=wutheringHeights.split('## CHAPTER VI')[1].split('## CHAPTER X')[0]"
   ]
  },
  {
   "cell_type": "code",
   "execution_count": 19,
   "metadata": {},
   "outputs": [],
   "source": [
    "#chapter 10-30: Heathcliff's revenge\n",
    "wutheringHeights2=wutheringHeights.split('## CHAPTER X')[1].split('## CHAPTER XXXI')[0]"
   ]
  },
  {
   "cell_type": "code",
   "execution_count": 20,
   "metadata": {},
   "outputs": [],
   "source": [
    "#chapter 31-34: Heathcliff stopped revenge and rediscovered his love.\n",
    "wutheringHeights3=wutheringHeights.split('## CHAPTER XXXI')[1]"
   ]
  },
  {
   "cell_type": "code",
   "execution_count": 21,
   "metadata": {},
   "outputs": [],
   "source": [
    "wutheringHeightsParts=[wutheringHeights0,wutheringHeights1,wutheringHeights2,wutheringHeights3]"
   ]
  },
  {
   "cell_type": "code",
   "execution_count": 22,
   "metadata": {},
   "outputs": [],
   "source": [
    "#define parts title\n",
    "partsTitles=[\"J1-9\",\"J10-26\",'J27-35','J36-38','W1-5','W6-9','W10-30','W31-34']"
   ]
  },
  {
   "cell_type": "code",
   "execution_count": 23,
   "metadata": {},
   "outputs": [],
   "source": [
    "#create part Docs\n",
    "JEWHPartsDoc=[nlp(part) for part in janeEyreParts+wutheringHeightsParts]"
   ]
  },
  {
   "cell_type": "code",
   "execution_count": 24,
   "metadata": {},
   "outputs": [],
   "source": [
    "janeEyreChapters=janeEyre.split('## CHAPTER ')[1:]"
   ]
  },
  {
   "cell_type": "code",
   "execution_count": 25,
   "metadata": {},
   "outputs": [],
   "source": [
    "wutheringHeightsChapters=wutheringHeights.split('## CHAPTER ')[1:]"
   ]
  },
  {
   "cell_type": "code",
   "execution_count": 26,
   "metadata": {},
   "outputs": [],
   "source": [
    "chapterTitles=['JE-'+chapter.split('\\n')[0] for chapter in janeEyreChapters]"
   ]
  },
  {
   "cell_type": "code",
   "execution_count": 27,
   "metadata": {},
   "outputs": [],
   "source": [
    "chapterTitles+=['WH-'+chapter.split('\\n')[0] for chapter in wutheringHeightsChapters]"
   ]
  },
  {
   "cell_type": "code",
   "execution_count": 28,
   "metadata": {},
   "outputs": [],
   "source": [
    "#create part Docs\n",
    "JEWHChaptersDoc=[nlp(chapter) for chapter in janeEyreChapters+wutheringHeightsChapters]"
   ]
  },
  {
   "cell_type": "markdown",
   "metadata": {},
   "source": [
    "## Contents"
   ]
  },
  {
   "cell_type": "markdown",
   "metadata": {},
   "source": [
    "### Semantic Analysis"
   ]
  },
  {
   "cell_type": "code",
   "execution_count": 29,
   "metadata": {},
   "outputs": [],
   "source": [
    "pca = PCA(n_components=3)"
   ]
  },
  {
   "cell_type": "code",
   "execution_count": 30,
   "metadata": {},
   "outputs": [],
   "source": [
    "pcaOut=pca.fit_transform([part.vector for part in JEWHPartsDoc])"
   ]
  },
  {
   "cell_type": "code",
   "execution_count": 31,
   "metadata": {},
   "outputs": [],
   "source": [
    "df = pd.DataFrame(pcaOut)"
   ]
  },
  {
   "cell_type": "code",
   "execution_count": 32,
   "metadata": {},
   "outputs": [],
   "source": [
    "def plotResults3D(df, labels): \n",
    "    fig = plt.figure()\n",
    "    ax = fig.add_subplot(111, projection='3d')\n",
    "    ax.scatter(df[0], df[1], df[2], marker='o')\n",
    "    for i, label in enumerate(labels):\n",
    "        ax.text(df.loc[i][0], df.loc[i][1], df.loc[i][2], label)"
   ]
  },
  {
   "cell_type": "code",
   "execution_count": 33,
   "metadata": {},
   "outputs": [],
   "source": [
    "# plotResults3D(df, partsTitles) #If you want to see the result, just remove '#' and run it"
   ]
  },
  {
   "cell_type": "markdown",
   "metadata": {},
   "source": [
    "#### Discussion:\n",
    "- W10-30, W31-34 and J27-35 are same in semantic. These three parts described Heathcliff's revenge, Heathcliff stopped revenge and rediscovered his love, and Jane Eyre left Thornfield Manor separately. The three parts are same in semantic because they consist plots of betrayal, leaving, death and so on. They express negative feeling.\n",
    "- W6-9 and J36-38 are almost the same. W6-9 talk about Heathcliff was abused and leave Wuthering Heights, while Catherine married to Linton. J36-38 talk about Jane Eyre back to Thornfield Manor and married with Mr. Rochester. These two parts are very similar probably because they both describe the life of the upper class and the joy of marriage. They also include plots like leaving and being blindness, which are not good things.\n",
    "- J1-9 and W1-5 are different. Although these two parts both describe the childhood life of protagonists in these two books, they are different because Jane's parents died, so she have to stay in Lowood orphanage, which is a place full of strict rules. She have to learning and behaving good every day. While Heathcliff and Catherine were lived in Wuthering Heights, and played in the field every day. Their parents were living."
   ]
  },
  {
   "cell_type": "markdown",
   "metadata": {},
   "source": [
    "### Sentiment Analysis"
   ]
  },
  {
   "cell_type": "code",
   "execution_count": 34,
   "metadata": {},
   "outputs": [],
   "source": [
    "def getLemma(docs):\n",
    "    lemmaList=[]\n",
    "    for sent in docs.sents:\n",
    "        sentLemmaList=[]\n",
    "        for w in sent:\n",
    "            if (not w.is_stop) and (not w.is_punct) and (not w.is_space) and (w.pos_ is not 'PROPN'):\n",
    "                sentLemmaList.append((w.lemma_,w.pos_))\n",
    "        lemmaList.append(sentLemmaList)\n",
    "    return lemmaList"
   ]
  },
  {
   "cell_type": "code",
   "execution_count": 35,
   "metadata": {},
   "outputs": [],
   "source": [
    "def getSentScore(docs):\n",
    "    sentScores=[]\n",
    "    for sent in getLemma(docs):\n",
    "        scores=[]\n",
    "        for word, pos in sent:\n",
    "            synPos=pos.lower()[0]\n",
    "            if synPos not in ['a','n','v']:\n",
    "                continue\n",
    "            synsets=list(sw.senti_synsets(word, synPos))\n",
    "            if (type(synsets)==list) and len(synsets)>0:\n",
    "                synset=synsets[0]\n",
    "                score=synset.pos_score()-synset.neg_score()\n",
    "                scores.append(score)\n",
    "        if len(scores)>0:\n",
    "            avgScores=sum(scores)/len(scores)\n",
    "            sentScores.append(avgScores)\n",
    "    return sentScores"
   ]
  },
  {
   "cell_type": "code",
   "execution_count": 37,
   "metadata": {},
   "outputs": [],
   "source": [
    "JESentScores=getSentScore(janeEyreDocs)\n",
    "WHSentScores=getSentScore(wutheringHeightsDocs)"
   ]
  },
  {
   "cell_type": "code",
   "execution_count": 122,
   "metadata": {},
   "outputs": [
    {
     "data": {
      "text/plain": [
       "<matplotlib.axes._subplots.AxesSubplot at 0x2bda0bc0710>"
      ]
     },
     "execution_count": 122,
     "metadata": {},
     "output_type": "execute_result"
    },
    {
     "data": {
      "image/png": "[encoded data removed]",
      "text/plain": [
       "<Figure size 216x144 with 1 Axes>"
      ]
     },
     "metadata": {
      "needs_background": "light"
     },
     "output_type": "display_data"
    }
   ],
   "source": [
    "plt.rcParams['figure.figsize'] = [3, 2]\n",
    "df = pd.DataFrame([JESentScores, WHSentScores], index=titles).T\n",
    "df.rolling(window=700).mean().plot()"
   ]
  },
  {
   "cell_type": "markdown",
   "metadata": {},
   "source": [
    "#### Discussion:\n",
    "- As we can see from figure, Jane Eyre's sentiment curve almost always be above Wuthering Heights' curve. It can be said that _Wuthering Heights_ is more negative and _Jane Eyre_ is more positive. \n",
    "- The only place where the Wuthering Heights' curve is above Jane Eyre's is in front of the novel, that is the childhood of the protagonists. As we just analyzed, Jane Eyre's childhood was more tragic. \n",
    "- Almost the whole book of _Wuthering Heights_ is in the negative range. That's why people don't like _Wuthering Heights_ at first. It is hard for people to accept so many sad things and negative feelings at the beginning."
   ]
  },
  {
   "cell_type": "markdown",
   "metadata": {},
   "source": [
    "## Motif"
   ]
  },
  {
   "cell_type": "markdown",
   "metadata": {},
   "source": [
    "### dispersion_plot"
   ]
  },
  {
   "cell_type": "code",
   "execution_count": 51,
   "metadata": {},
   "outputs": [],
   "source": [
    "#Find positions of certain words for Jane Eyre and Wuthering Heights\n",
    "#plt.subplot(2,2,1)\n",
    "#wutheringHeightsText.dispersion_plot(['love','hate','study','education','money','live','death','hope','hopeless','despair'])\n",
    "#plt.subplot(2,2,2)\n",
    "#janeEyreText.dispersion_plot(['love','hate','study','education','money','live','death','hope','hopeless','despair'])\n",
    "#plt.show()\n",
    "#If you want to see the result, delete '#' and run the cell"
   ]
  },
  {
   "cell_type": "markdown",
   "metadata": {},
   "source": [
    "#### Discussion:\n",
    "- 'love' appeared more often in  _Jane Eyre_ than in _Wuthering Heights_.\n",
    "'death' appeared more often in _Wuthering Heights_ than in _Jane Eyre_.\n",
    "But 'love' appeared more often than 'hate' even in _Wuthering Heights_. _Wuthering Heights_ is a negative novel from emotional perspective, but its motif is positive. Just like flowers bloomed in the desert or light in the darkness. At first people may not see the positive side of _Wuthering Mountain_, but they will find the positive side of it if they read more times.\n",
    "- _Wuthering Heights_ has less 'education' and 'study' appeared, reflecting the life of bottom peopel and the cruel revenge, while _Jane Eyre_ mentioned more about study and education, which imply the upper class life.\n",
    "- 'live' appeared more often than 'death' in _Jane Eyre_, while 'death' appeared more often than 'live' in _Wuthering Heights_. _Wuthering Heights_ is indeed a negative and miserable novel. \n",
    "- 'Hope' appeared more often in Jane Eyre than Wuthering Heights, while 'hopeless' and 'despair' also appeared more frequent in Jane Eyre. Also, 'hopeless' and 'despair' appeared less than 'hope' in both novels. It seems like Emily was just have less emotion. She was not what some critics said, like a insane woman, who promoting distorted values. She had a common view, that hope is more worth than hopeless."
   ]
  },
  {
   "cell_type": "markdown",
   "metadata": {},
   "source": [
    "### Longest Ngrams"
   ]
  },
  {
   "cell_type": "code",
   "execution_count": 52,
   "metadata": {},
   "outputs": [],
   "source": [
    "#funcion of finding longest ngrams that appeared at least twice\n",
    "def findLongestNgram(Tokens):\n",
    "    longestNgram=[]\n",
    "    longestNgram2=[]\n",
    "    for i in range (2,100):\n",
    "        longestNgram2=[]#clear the list\n",
    "        ngrams=list(nltk.ngrams(Tokens,i))#create the ngrams with i's value\n",
    "        res=collections.Counter(ngrams) #count each ngram\n",
    "        for key in list(res.keys()):\n",
    "            #if this ngram that occurs at least twice\n",
    "            if int(res[key]) >=2:\n",
    "                longestNgram2.append(key)#add this ngram to longestNgram2\n",
    "        #if there exits a ngram in longestNgram2\n",
    "        if len(longestNgram2)>0:\n",
    "            longestNgram=longestNgram2#update longestNgram\n",
    "    return longestNgram"
   ]
  },
  {
   "cell_type": "code",
   "execution_count": 53,
   "metadata": {},
   "outputs": [
    {
     "data": {
      "text/plain": [
       "[('a',\n",
       "  'glorious',\n",
       "  'thing',\n",
       "  'to',\n",
       "  'have',\n",
       "  'the',\n",
       "  'hope',\n",
       "  'of',\n",
       "  'living',\n",
       "  'with',\n",
       "  'you')]"
      ]
     },
     "execution_count": 53,
     "metadata": {},
     "output_type": "execute_result"
    }
   ],
   "source": [
    "#find longest ngram for Jane Eyre\n",
    "findLongestNgram(janeEyreTokensClean)"
   ]
  },
  {
   "cell_type": "code",
   "execution_count": 54,
   "metadata": {},
   "outputs": [
    {
     "data": {
      "text/plain": [
       "[('at', 'the', 'end', 'of', 'the', 'house', 'and'),\n",
       " ('at', 'the', 'top', 'of', 'the', 'steps', 'and'),\n",
       " ('have', 'only', 'to', 'do', 'with', 'the', 'present'),\n",
       " ('common', 'humanity', 'and', 'a', 'sense', 'of', 'duty')]"
      ]
     },
     "execution_count": 54,
     "metadata": {},
     "output_type": "execute_result"
    }
   ],
   "source": [
    "#find longest ngram for Wuthering Heights\n",
    "findLongestNgram(wutheringHeightsTokensClean)"
   ]
  },
  {
   "cell_type": "markdown",
   "metadata": {},
   "source": [
    "#### Discussion:\n",
    "-  'a glorious thing to have the hope of living with you': Jane and Mr. Rochester said it. That's reveal the motif of the story, the love between Jane and Rochester.\n",
    "- 'I have only to do with the present' was said by Catherine when she wanted married to Edgar.\n",
    "- \"by common humanity, and a sense of duty\" was a sarcasm to Heathcliff, which reflected part of the story that evil Heathcliff done many evil things"
   ]
  },
  {
   "cell_type": "markdown",
   "metadata": {},
   "source": [
    "## Topic"
   ]
  },
  {
   "cell_type": "markdown",
   "metadata": {},
   "source": [
    "### LDA-Topic modeling"
   ]
  },
  {
   "cell_type": "code",
   "execution_count": 55,
   "metadata": {},
   "outputs": [],
   "source": [
    "#define chunk function\n",
    "def chunk(tokens, size): \n",
    "    return list(zip(*[tokens[i::size] for i in range(size)])) "
   ]
  },
  {
   "cell_type": "code",
   "execution_count": 56,
   "metadata": {},
   "outputs": [],
   "source": [
    "#create chunks for janeEyre\n",
    "janeEyreChunks=chunk(janeEyreTokensClean,300)\n",
    "janeEyreChunks = [' '.join(chunk) for chunk in janeEyreChunks]"
   ]
  },
  {
   "cell_type": "code",
   "execution_count": 57,
   "metadata": {},
   "outputs": [],
   "source": [
    "#create chunk for wutheringHeights\n",
    "wutheringHeightsChunks=chunk(wutheringHeightsTokensClean,300)\n",
    "wutheringHeightsChunks = [' '.join(chunk) for chunk in wutheringHeightsChunks]"
   ]
  },
  {
   "cell_type": "code",
   "execution_count": 58,
   "metadata": {},
   "outputs": [],
   "source": [
    "# define a function to find topic\n",
    "def topicModel(docs, numTopics=8, maxFeats=None,min_df=2,max_df=0.95): \n",
    "    cv = CountVectorizer(stop_words='english', \n",
    "                         min_df=min_df, max_df=max_df, max_features=maxFeats)\n",
    "    counts = cv.fit_transform(docs)\n",
    "    wordLabels = cv.get_feature_names()\n",
    "    lda = LatentDirichletAllocation(n_components=numTopics, max_iter=10, \n",
    "                                    learning_method='online',\n",
    "                                    learning_offset=50., random_state=0)\n",
    "    ldaOut=lda.fit_transform(counts)\n",
    "    \n",
    "    topicLabels=[]\n",
    "    for i, topic in enumerate(lda.components_):\n",
    "        print(\"Topic {}\".format(i))\n",
    "        topicLabel = \" \".join([wordLabels[i] for i in topic.argsort()[:-10 - 1:-1]])\n",
    "        print(topicLabel)\n",
    "        topicLabels.append(topicLabel)\n",
    "        \n",
    "    return lda, ldaOut,counts, cv, topicLabels #return lda, ldaOut, counts and cv, topicLabels"
   ]
  },
  {
   "cell_type": "code",
   "execution_count": 59,
   "metadata": {},
   "outputs": [
    {
     "name": "stdout",
     "output_type": "stream",
     "text": [
      "Topic 0\n",
      "miss ingram french temple said brocklehurst mama lady did madame\n",
      "Topic 1\n",
      "said did rochester jane like little sir miss thought shall\n",
      "Topic 2\n",
      "bessie tart plate pages tales paradise interesting introductory bewick phantoms\n",
      "Topic 3\n",
      "quickening public site plants clothing institution fully miss teachers patients\n",
      "Topic 4\n",
      "herbs lowood prepare roses miss fewer spice wont luxuries potatoes\n"
     ]
    }
   ],
   "source": [
    "#get topic model from janeEyre\n",
    "JELda,JELdaOut,JECounts,JECv,JETopicLabels=topicModel(janeEyreChunks,numTopics=5,min_df=2, max_df=0.99)"
   ]
  },
  {
   "cell_type": "code",
   "execution_count": 60,
   "metadata": {},
   "outputs": [],
   "source": [
    "JEDF = pd.DataFrame(JELdaOut, columns=JETopicLabels)"
   ]
  },
  {
   "cell_type": "code",
   "execution_count": 106,
   "metadata": {},
   "outputs": [],
   "source": [
    "#plt.rcParams['figure.figsize'] = [10, 6]\n",
    "#plot topics\n",
    "#JEDF[[JETopicLabels[0], JETopicLabels[1], JETopicLabels[2],JETopicLabels[3],JETopicLabels[4]]].plot()"
   ]
  },
  {
   "cell_type": "markdown",
   "metadata": {},
   "source": [
    "#### Discussion:\n",
    "- Topic 1: rochester & jane: appeared through whole book\n",
    "- Topic 2: bessie tart plate pages tales paradise interesting introductory bewick phantoms is about the childhood of Jane\n",
    "- Topic 3: teachers patients is Jane become a teacher"
   ]
  },
  {
   "cell_type": "code",
   "execution_count": 62,
   "metadata": {},
   "outputs": [
    {
     "name": "stdout",
     "output_type": "stream",
     "text": [
      "Topic 0\n",
      "said heathcliff hareton did catherine come earnshaw joseph little master\n",
      "Topic 1\n",
      "till heathcliff long half bed hope said time need shall\n",
      "Topic 2\n",
      "mind heathcliff kitchen soon answered wuthering care present just joseph\n",
      "Topic 3\n",
      "heathcliff away eyes look like shall door man hand catherine\n",
      "Topic 4\n",
      "linton catherine heathcliff said did shall master edgar little time\n"
     ]
    }
   ],
   "source": [
    "#get topic model from wutheringHeights\n",
    "WHLda,WHLdaOut,WHCounts,WHCv,WHTopicLabels=topicModel(wutheringHeightsChunks,numTopics=5,min_df=0.1, max_df=0.99)"
   ]
  },
  {
   "cell_type": "code",
   "execution_count": 63,
   "metadata": {},
   "outputs": [],
   "source": [
    "WHDF = pd.DataFrame(WHLdaOut, columns=WHTopicLabels)"
   ]
  },
  {
   "cell_type": "code",
   "execution_count": 64,
   "metadata": {},
   "outputs": [],
   "source": [
    "#plot topic model from wutheringHeights\n",
    "#WHDF[[WHTopicLabels[0], WHTopicLabels[1], WHTopicLabels[4]]].plot()"
   ]
  },
  {
   "cell_type": "markdown",
   "metadata": {},
   "source": [
    "#### Discussion:\n",
    "- Topic 0: heathcliff, hareton, catherine: important roles name\n",
    "- Topic 1: hope, need, shall: The childhood of heathcliff, hareton and catherine. In this time heathcliff was a kind child, he wasn't turn to a evil man.\n",
    "- Topic 3: away: heathcliff leave the wuthering Heights. or he became a evil man, away from common people.\n",
    "- Topic 3: eyes, hand: Linton's great blue eyes, Catherine beautiful eyes. Emily always use eyes and other things to describe each roles and their feeling. Her story was narrated by third person.\n",
    "- Topic 4: liton, catherine, heathcliff, edgar: most important roles in the story. This story is about a group of people."
   ]
  },
  {
   "cell_type": "markdown",
   "metadata": {},
   "source": [
    "## Style"
   ]
  },
  {
   "cell_type": "markdown",
   "metadata": {},
   "source": [
    "### Type token ratio"
   ]
  },
  {
   "cell_type": "code",
   "execution_count": 128,
   "metadata": {},
   "outputs": [],
   "source": [
    "#define type/token ratio function\n",
    "def typeTokenRatio(tokens):\n",
    "    numTypes=len(set(tokens))\n",
    "    numTokens=len(tokens)\n",
    "    return \"{:.4f}\".format(numTypes/numTokens)"
   ]
  },
  {
   "cell_type": "code",
   "execution_count": 129,
   "metadata": {},
   "outputs": [],
   "source": [
    "#calculate two stories' type/token ratio\n",
    "ttrs={}\n",
    "ttrs[titles[0]]=typeTokenRatio(janeEyreTokensClean)\n",
    "ttrs[titles[1]]=typeTokenRatio(wutheringHeightsTokensClean)"
   ]
  },
  {
   "cell_type": "code",
   "execution_count": 130,
   "metadata": {},
   "outputs": [
    {
     "data": {
      "text/plain": [
       "{'Jane Eyre': '0.0666', 'Wuthering Heights': '0.0798'}"
      ]
     },
     "execution_count": 130,
     "metadata": {},
     "output_type": "execute_result"
    }
   ],
   "source": [
    "ttrs"
   ]
  },
  {
   "cell_type": "markdown",
   "metadata": {},
   "source": [
    "#### Discussion:\n",
    "- _Wuthering Heights_ has more different words than _Jane Eyre_.\n",
    "It might be _Wuthering Heights_ is a more complex story than _Jane Eyre_ and the time period of this story is longer, so it contains more diversity words"
   ]
  },
  {
   "cell_type": "markdown",
   "metadata": {},
   "source": [
    "### Pattern"
   ]
  },
  {
   "cell_type": "code",
   "execution_count": 68,
   "metadata": {},
   "outputs": [],
   "source": [
    "#fuction that find pattern: like a JJ NN\n",
    "def likeAJJNN(pairs):\n",
    "    matches=[]\n",
    "    for i, pair in enumerate(pairs):\n",
    "        word=pair[0]\n",
    "        pos = pair[1]\n",
    "        if i<len(pairs)-4:\n",
    "            nWord=pairs[i+1][0]\n",
    "            nnWord=pairs[i+2][0]\n",
    "            nnWordPOS=pairs[i+2][1]\n",
    "            nnnWord=pairs[i+3][0]\n",
    "            nnnWordPOS=pairs[i+3][1]\n",
    "            if word==\"like\" and nWord==\"a\" and nnWordPOS==\"JJ\" and nnnWordPOS==\"NN\":\n",
    "                matches.append(tuple([word,nWord,nnWord,nnnWord]))\n",
    "    return matches"
   ]
  },
  {
   "cell_type": "code",
   "execution_count": 69,
   "metadata": {},
   "outputs": [
    {
     "data": {
      "text/plain": [
       "[(('like', 'a', 'mad', 'cat'), 2),\n",
       " (('like', 'a', 'pale', 'throne'), 1),\n",
       " (('like', 'a', 'dark', 'deposit'), 1),\n",
       " (('like', 'a', 'carved', 'mask'), 1),\n",
       " (('like', 'a', 'bible', 'lay'), 1),\n",
       " (('like', 'a', 'troubled', 'spirit'), 1),\n",
       " (('like', 'a', 'new', 'scene'), 1),\n",
       " (('like', 'a', 'new', 'picture'), 1),\n",
       " (('like', 'a', 'dian', 'i'), 1),\n",
       " (('like', 'a', 'common', 'mortal'), 1),\n",
       " (('like', 'a', 'second', 'danae'), 1),\n",
       " (('like', 'a', 'dutiful', 'child'), 1),\n",
       " (('like', 'a', 'soft', 'trace'), 1),\n",
       " (('like', 'a', 'greek', 'face'), 1),\n",
       " (('like', 'a', 'disappointed', 'child'), 1),\n",
       " (('like', 'a', 'bright', 'flower'), 1),\n",
       " (('like', 'a', 'trampled', 'street'), 1),\n",
       " (('like', 'a', 'physician', 'watching'), 1),\n",
       " (('like', 'a', 'neophyte', 'respect'), 1),\n",
       " (('like', 'a', 'tangible', 'reproach'), 1)]"
      ]
     },
     "execution_count": 69,
     "metadata": {},
     "output_type": "execute_result"
    }
   ],
   "source": [
    "#show like a JJ NN for Jane Eyre, sorted by appeared tims\n",
    "collections.Counter(likeAJJNN(janeEyreTags)).most_common(20)"
   ]
  },
  {
   "cell_type": "code",
   "execution_count": 70,
   "metadata": {},
   "outputs": [
    {
     "data": {
      "text/plain": [
       "[(('like', 'a', 'foolish', 'mother'), 1),\n",
       " (('like', 'a', 'hungry', 'wolf'), 1),\n",
       " (('like', 'a', 'mad', 'dog'), 1),\n",
       " (('like', 'a', 'faithful', 'dog'), 1),\n",
       " (('like', 'a', 'young', 'greyhound'), 1),\n",
       " (('like', 'a', 'true', 'clown'), 1)]"
      ]
     },
     "execution_count": 70,
     "metadata": {},
     "output_type": "execute_result"
    }
   ],
   "source": [
    "#show like a JJ NN for Wuthering Heights, sorted by appeared tims\n",
    "collections.Counter(likeAJJNN(wutheringHeightsTags)).most_common(20)"
   ]
  },
  {
   "cell_type": "markdown",
   "metadata": {},
   "source": [
    "#### Discussion:\n",
    "- Charlotte use more analogies, she was more sensitive. That why many people love her story for her vivid description. But for Emily, her novel is always narrated in third people perspective, so the analogies will be less. Also, it might be Emily was a introverted woman. She was not that sensitive, and less used analogy."
   ]
  },
  {
   "cell_type": "markdown",
   "metadata": {},
   "source": [
    "### Stylometry"
   ]
  },
  {
   "cell_type": "code",
   "execution_count": 71,
   "metadata": {},
   "outputs": [],
   "source": [
    "#initialize tfidf\n",
    "tfidf = TfidfVectorizer(tokenizer=nltk.word_tokenize, max_features=5000,max_df=1.5,min_df=0.5,stop_words='english')"
   ]
  },
  {
   "cell_type": "code",
   "execution_count": 72,
   "metadata": {},
   "outputs": [],
   "source": [
    "tfMatrix = tfidf.fit_transform(janeEyreChapters+wutheringHeightsChapters) #extract features of each chapter in Jane Eyre and Wuthering Heights"
   ]
  },
  {
   "cell_type": "code",
   "execution_count": 73,
   "metadata": {},
   "outputs": [],
   "source": [
    "pca = PCA(n_components=2)"
   ]
  },
  {
   "cell_type": "code",
   "execution_count": 74,
   "metadata": {},
   "outputs": [],
   "source": [
    "pcaOut = pca.fit_transform(tfMatrix.todense())"
   ]
  },
  {
   "cell_type": "code",
   "execution_count": 75,
   "metadata": {},
   "outputs": [],
   "source": [
    "df = pd.DataFrame(pcaOut, index=chapterTitles,columns=['Component 1', 'Component 2']) #use data frame"
   ]
  },
  {
   "cell_type": "code",
   "execution_count": 76,
   "metadata": {},
   "outputs": [
    {
     "data": {
      "image/png": "[encoded data removed]",
      "text/plain": [
       "<Figure size 720x432 with 1 Axes>"
      ]
     },
     "metadata": {
      "needs_background": "light"
     },
     "output_type": "display_data"
    }
   ],
   "source": [
    "#plot the result\n",
    "ax = df.plot(x='Component 1', y='Component 2', kind='scatter', figsize=(10,6))\n",
    "for key, value in df.iterrows():\n",
    "    ax.annotate(key, value)"
   ]
  },
  {
   "cell_type": "markdown",
   "metadata": {},
   "source": [
    "#### Discussion:\n",
    "- We can see that Charlotte and Emily had different writing styles. It might because _Jane Eyre_ is a autobiographical novel while _Wuthering Heights_ narrated by third person.\n",
    "- WH-XXX and JE-XXXVIII--CONCLUSION are most same two chapters. WH-XXX is in Mr. Lockwood's perspective. This chapter is not all about memories, it's about what's happening. JE-XXXVIII--CONCLUSION is Jane's description of the ending of this novel, which has less dialogues, sentences start with 'I', and has more facts. That's why JE-XXXVIII--CONCLUSION and WH-XXX are similar."
   ]
  },
  {
   "cell_type": "markdown",
   "metadata": {},
   "source": [
    "### Collocation Frequency"
   ]
  },
  {
   "cell_type": "code",
   "execution_count": 77,
   "metadata": {},
   "outputs": [
    {
     "data": {
      "text/plain": [
       "['miss temple',\n",
       " 'miss ingram',\n",
       " 'miss eyre',\n",
       " 'thornfield hall',\n",
       " 'jane eyre',\n",
       " 'grace poole',\n",
       " 'miss miller',\n",
       " 'miss scatcherd',\n",
       " 'helen burns',\n",
       " 'colonel dent',\n",
       " 'yes sir',\n",
       " 'ere long',\n",
       " 'last night',\n",
       " 'moor house',\n",
       " 'thousand pounds',\n",
       " 'young ladies',\n",
       " 'great deal',\n",
       " 'ten minutes',\n",
       " 'eight years',\n",
       " 'third storey',\n",
       " 'little girl',\n",
       " 'next day',\n",
       " 'five minutes',\n",
       " 'three months',\n",
       " 'twenty thousand',\n",
       " 'human beings',\n",
       " 'drew near',\n",
       " 'two hours',\n",
       " 'lord ingram',\n",
       " 'miss oliver']"
      ]
     },
     "execution_count": 77,
     "metadata": {},
     "output_type": "execute_result"
    }
   ],
   "source": [
    "janeEyreText.collocation_list(num=30) #find most frequently used collocaations for Jane Eyre"
   ]
  },
  {
   "cell_type": "code",
   "execution_count": 78,
   "metadata": {},
   "outputs": [
    {
     "data": {
      "text/plain": [
       "['wuthering heights',\n",
       " 'young lady',\n",
       " 'miss cathy',\n",
       " 'thrushcross grange',\n",
       " 'miss catherine',\n",
       " 'great deal',\n",
       " 'penistone crags',\n",
       " 'edgar linton',\n",
       " 'young man',\n",
       " 'old man',\n",
       " 'poor thing',\n",
       " 'five minutes',\n",
       " 'jabez branderham',\n",
       " 'last night',\n",
       " 'miss linton',\n",
       " 'twenty years',\n",
       " 'times seven',\n",
       " 'take care',\n",
       " 'one side',\n",
       " 'every day',\n",
       " 'make haste',\n",
       " 'next day',\n",
       " 'ten minutes',\n",
       " 'ech ech',\n",
       " 'six months',\n",
       " 'three hours',\n",
       " 'moon shone',\n",
       " 'said heathcliff',\n",
       " 'could bear',\n",
       " 'one else']"
      ]
     },
     "execution_count": 78,
     "metadata": {},
     "output_type": "execute_result"
    }
   ],
   "source": [
    "wutheringHeightsText.collocation_list(num=30) #find most frequently used collocaations for Wthering Heights"
   ]
  },
  {
   "cell_type": "markdown",
   "metadata": {},
   "source": [
    "#### Discussion:\n",
    "- Collocation from janeEyreText, it can even represent the whole story: 'Thornfield Hall','Jane Eyre','Miss Scatcherd','Helen Burns','Yes sir','third storey','miss oliver'. This because the whole book was an autobiography, especially focus on Jane's love. All those things, like the mad woman in the third storey, Miss Oliver, Thornfield Hall are associated with her love story.\n",
    "- 'Wuthering Heights','Thrushcross Grange' are the two main place that the two storise happened. Also, some name of heros in the book appeared.\n",
    "- twenty years: _Wuthering Heights_ has a longer story span."
   ]
  },
  {
   "cell_type": "markdown",
   "metadata": {},
   "source": [
    "### Word Propotions"
   ]
  },
  {
   "cell_type": "code",
   "execution_count": 79,
   "metadata": {},
   "outputs": [],
   "source": [
    "counts=[]\n",
    "for parts in [janeEyreTokensClean,wutheringHeightsTokensClean]:\n",
    "    counts.append(collections.Counter(parts))#count each tokens\n",
    "# use datd frame    \n",
    "countsDF=pd.DataFrame(counts, index=['janeEyre','wutheringHeights']).fillna(0).T "
   ]
  },
  {
   "cell_type": "code",
   "execution_count": 80,
   "metadata": {},
   "outputs": [],
   "source": [
    "totalNumTokens=[len(tokens) for tokens in [janeEyreTokensClean,wutheringHeightsTokensClean]]\n",
    "propotions = countsDF/totalNumTokens*100 #calculate propotion for each word\n",
    "propotions['average']=propotions.mean(axis=1)\n",
    "propotions['JE']=propotions['janeEyre']-propotions['average'] # find words that used more often in Jane Eyre\n",
    "propotions['WH']=propotions['wutheringHeights']-propotions['average'] # find words that used more often in Wuthering Heights"
   ]
  },
  {
   "cell_type": "code",
   "execution_count": 81,
   "metadata": {},
   "outputs": [
    {
     "data": {
      "text/html": [
       "<div>\n",
       "<style scoped>\n",
       "    .dataframe tbody tr th:only-of-type {\n",
       "        vertical-align: middle;\n",
       "    }\n",
       "\n",
       "    .dataframe tbody tr th {\n",
       "        vertical-align: top;\n",
       "    }\n",
       "\n",
       "    .dataframe thead th {\n",
       "        text-align: right;\n",
       "    }\n",
       "</style>\n",
       "<table border=\"1\" class=\"dataframe\">\n",
       "  <thead>\n",
       "    <tr style=\"text-align: right;\">\n",
       "      <th></th>\n",
       "      <th>janeEyre</th>\n",
       "      <th>wutheringHeights</th>\n",
       "      <th>average</th>\n",
       "      <th>JE</th>\n",
       "      <th>WH</th>\n",
       "    </tr>\n",
       "  </thead>\n",
       "  <tbody>\n",
       "    <tr>\n",
       "      <th>of</th>\n",
       "      <td>2.356708</td>\n",
       "      <td>1.958792</td>\n",
       "      <td>2.157750</td>\n",
       "      <td>0.198958</td>\n",
       "      <td>-0.198958</td>\n",
       "    </tr>\n",
       "    <tr>\n",
       "      <th>was</th>\n",
       "      <td>1.373839</td>\n",
       "      <td>0.993091</td>\n",
       "      <td>1.183465</td>\n",
       "      <td>0.190374</td>\n",
       "      <td>-0.190374</td>\n",
       "    </tr>\n",
       "    <tr>\n",
       "      <th>a</th>\n",
       "      <td>2.419873</td>\n",
       "      <td>2.047145</td>\n",
       "      <td>2.233509</td>\n",
       "      <td>0.186364</td>\n",
       "      <td>-0.186364</td>\n",
       "    </tr>\n",
       "    <tr>\n",
       "      <th>i</th>\n",
       "      <td>3.926576</td>\n",
       "      <td>3.612765</td>\n",
       "      <td>3.769671</td>\n",
       "      <td>0.156905</td>\n",
       "      <td>-0.156905</td>\n",
       "    </tr>\n",
       "    <tr>\n",
       "      <th>my</th>\n",
       "      <td>1.207214</td>\n",
       "      <td>0.950681</td>\n",
       "      <td>1.078948</td>\n",
       "      <td>0.128266</td>\n",
       "      <td>-0.128266</td>\n",
       "    </tr>\n",
       "    <tr>\n",
       "      <th>the</th>\n",
       "      <td>4.240223</td>\n",
       "      <td>4.002403</td>\n",
       "      <td>4.121313</td>\n",
       "      <td>0.118910</td>\n",
       "      <td>-0.118910</td>\n",
       "    </tr>\n",
       "    <tr>\n",
       "      <th>in</th>\n",
       "      <td>1.499080</td>\n",
       "      <td>1.284657</td>\n",
       "      <td>1.391868</td>\n",
       "      <td>0.107212</td>\n",
       "      <td>-0.107212</td>\n",
       "    </tr>\n",
       "    <tr>\n",
       "      <th>rochester</th>\n",
       "      <td>0.198752</td>\n",
       "      <td>0.000000</td>\n",
       "      <td>0.099376</td>\n",
       "      <td>0.099376</td>\n",
       "      <td>-0.099376</td>\n",
       "    </tr>\n",
       "    <tr>\n",
       "      <th>had</th>\n",
       "      <td>0.811888</td>\n",
       "      <td>0.613172</td>\n",
       "      <td>0.712530</td>\n",
       "      <td>0.099358</td>\n",
       "      <td>-0.099358</td>\n",
       "    </tr>\n",
       "    <tr>\n",
       "      <th>jane</th>\n",
       "      <td>0.184594</td>\n",
       "      <td>0.000000</td>\n",
       "      <td>0.092297</td>\n",
       "      <td>0.092297</td>\n",
       "      <td>-0.092297</td>\n",
       "    </tr>\n",
       "  </tbody>\n",
       "</table>\n",
       "</div>"
      ],
      "text/plain": [
       "           janeEyre  wutheringHeights   average        JE        WH\n",
       "of         2.356708          1.958792  2.157750  0.198958 -0.198958\n",
       "was        1.373839          0.993091  1.183465  0.190374 -0.190374\n",
       "a          2.419873          2.047145  2.233509  0.186364 -0.186364\n",
       "i          3.926576          3.612765  3.769671  0.156905 -0.156905\n",
       "my         1.207214          0.950681  1.078948  0.128266 -0.128266\n",
       "the        4.240223          4.002403  4.121313  0.118910 -0.118910\n",
       "in         1.499080          1.284657  1.391868  0.107212 -0.107212\n",
       "rochester  0.198752          0.000000  0.099376  0.099376 -0.099376\n",
       "had        0.811888          0.613172  0.712530  0.099358 -0.099358\n",
       "jane       0.184594          0.000000  0.092297  0.092297 -0.092297"
      ]
     },
     "execution_count": 81,
     "metadata": {},
     "output_type": "execute_result"
    }
   ],
   "source": [
    "propotions.sort_values('JE',ascending=False)[:10]"
   ]
  },
  {
   "cell_type": "code",
   "execution_count": 82,
   "metadata": {},
   "outputs": [
    {
     "data": {
      "text/html": [
       "<div>\n",
       "<style scoped>\n",
       "    .dataframe tbody tr th:only-of-type {\n",
       "        vertical-align: middle;\n",
       "    }\n",
       "\n",
       "    .dataframe tbody tr th {\n",
       "        vertical-align: top;\n",
       "    }\n",
       "\n",
       "    .dataframe thead th {\n",
       "        text-align: right;\n",
       "    }\n",
       "</style>\n",
       "<table border=\"1\" class=\"dataframe\">\n",
       "  <thead>\n",
       "    <tr style=\"text-align: right;\">\n",
       "      <th></th>\n",
       "      <th>janeEyre</th>\n",
       "      <th>wutheringHeights</th>\n",
       "      <th>average</th>\n",
       "      <th>JE</th>\n",
       "      <th>WH</th>\n",
       "    </tr>\n",
       "  </thead>\n",
       "  <tbody>\n",
       "    <tr>\n",
       "      <th>he</th>\n",
       "      <td>1.030243</td>\n",
       "      <td>1.811242</td>\n",
       "      <td>1.420743</td>\n",
       "      <td>-0.390500</td>\n",
       "      <td>0.390500</td>\n",
       "    </tr>\n",
       "    <tr>\n",
       "      <th>his</th>\n",
       "      <td>0.654520</td>\n",
       "      <td>1.249315</td>\n",
       "      <td>0.951918</td>\n",
       "      <td>-0.297398</td>\n",
       "      <td>0.297398</td>\n",
       "    </tr>\n",
       "    <tr>\n",
       "      <th>and</th>\n",
       "      <td>3.590059</td>\n",
       "      <td>4.058066</td>\n",
       "      <td>3.824062</td>\n",
       "      <td>-0.234003</td>\n",
       "      <td>0.234003</td>\n",
       "    </tr>\n",
       "    <tr>\n",
       "      <th>her</th>\n",
       "      <td>0.931139</td>\n",
       "      <td>1.363291</td>\n",
       "      <td>1.147215</td>\n",
       "      <td>-0.216076</td>\n",
       "      <td>0.216076</td>\n",
       "    </tr>\n",
       "    <tr>\n",
       "      <th>him</th>\n",
       "      <td>0.387158</td>\n",
       "      <td>0.814617</td>\n",
       "      <td>0.600888</td>\n",
       "      <td>-0.213730</td>\n",
       "      <td>0.213730</td>\n",
       "    </tr>\n",
       "    <tr>\n",
       "      <th>heathcliff</th>\n",
       "      <td>0.000000</td>\n",
       "      <td>0.404658</td>\n",
       "      <td>0.202329</td>\n",
       "      <td>-0.202329</td>\n",
       "      <td>0.202329</td>\n",
       "    </tr>\n",
       "    <tr>\n",
       "      <th>linton</th>\n",
       "      <td>0.000000</td>\n",
       "      <td>0.346345</td>\n",
       "      <td>0.173172</td>\n",
       "      <td>-0.173172</td>\n",
       "      <td>0.173172</td>\n",
       "    </tr>\n",
       "    <tr>\n",
       "      <th>she</th>\n",
       "      <td>0.802087</td>\n",
       "      <td>1.137107</td>\n",
       "      <td>0.969597</td>\n",
       "      <td>-0.167510</td>\n",
       "      <td>0.167510</td>\n",
       "    </tr>\n",
       "    <tr>\n",
       "      <th>catherine</th>\n",
       "      <td>0.000545</td>\n",
       "      <td>0.323373</td>\n",
       "      <td>0.161959</td>\n",
       "      <td>-0.161414</td>\n",
       "      <td>0.161414</td>\n",
       "    </tr>\n",
       "    <tr>\n",
       "      <th>to</th>\n",
       "      <td>2.778171</td>\n",
       "      <td>3.067626</td>\n",
       "      <td>2.922898</td>\n",
       "      <td>-0.144727</td>\n",
       "      <td>0.144727</td>\n",
       "    </tr>\n",
       "  </tbody>\n",
       "</table>\n",
       "</div>"
      ],
      "text/plain": [
       "            janeEyre  wutheringHeights   average        JE        WH\n",
       "he          1.030243          1.811242  1.420743 -0.390500  0.390500\n",
       "his         0.654520          1.249315  0.951918 -0.297398  0.297398\n",
       "and         3.590059          4.058066  3.824062 -0.234003  0.234003\n",
       "her         0.931139          1.363291  1.147215 -0.216076  0.216076\n",
       "him         0.387158          0.814617  0.600888 -0.213730  0.213730\n",
       "heathcliff  0.000000          0.404658  0.202329 -0.202329  0.202329\n",
       "linton      0.000000          0.346345  0.173172 -0.173172  0.173172\n",
       "she         0.802087          1.137107  0.969597 -0.167510  0.167510\n",
       "catherine   0.000545          0.323373  0.161959 -0.161414  0.161414\n",
       "to          2.778171          3.067626  2.922898 -0.144727  0.144727"
      ]
     },
     "execution_count": 82,
     "metadata": {},
     "output_type": "execute_result"
    }
   ],
   "source": [
    "propotions.sort_values('WH',ascending=False)[:10]"
   ]
  },
  {
   "cell_type": "markdown",
   "metadata": {},
   "source": [
    "#### Discussion:\n",
    "- _Jane Eyre_ use i, my, me more often while _Wuthering Heights_ use he, his, her, him, she more often. This is because _Jane Eyre_ is an autobiographical novel and _Wuthering Heights_ is a novel narrated by a third person."
   ]
  },
  {
   "cell_type": "markdown",
   "metadata": {},
   "source": [
    "## Character Relationships Distance"
   ]
  },
  {
   "cell_type": "code",
   "execution_count": 83,
   "metadata": {},
   "outputs": [],
   "source": [
    "#function to get average distance\n",
    "def getDist(l1,l2): \n",
    "    dist = []\n",
    "    for i in l1:\n",
    "        for j in l2:\n",
    "            d = abs(i-j)\n",
    "            dist.append(d)\n",
    "    return statistics.mean(dist)\n",
    "#function for get distance for name in nameList        \n",
    "def getCharacterDistances(doc,nameList):\n",
    "    charactersObj = [word for word in doc if word.text.strip() in nameList]\n",
    "    indexes = [[] for n in range(len(nameList))]        \n",
    "    for ob in charactersObj:\n",
    "        indexes[nameList.index(ob.text.strip())].append(ob.i)\n",
    "    distances = [[0 for n in range(len(nameList))] for n in range(len(nameList))]\n",
    "    for i,cha1 in enumerate(indexes):\n",
    "        for cha2 in indexes[i+1:]:\n",
    "            distances[i][indexes.index(cha2)] = getDist(cha1,cha2)\n",
    "            distances[indexes.index(cha2)][i] = getDist(cha1,cha2)   \n",
    "                                                                        \n",
    "    return distances"
   ]
  },
  {
   "cell_type": "code",
   "execution_count": 84,
   "metadata": {},
   "outputs": [],
   "source": [
    "#get result of distances of each pair of names in nameList\n",
    "def getResults(doc,nameList):\n",
    "    docDistances = getCharacterDistances(doc,nameList)\n",
    "    flatDistances = []\n",
    "    for item in docDistances:\n",
    "        for d in item:\n",
    "            flatDistances.append(d)\n",
    "    R = np.array(flatDistances)\n",
    "    n = int(np.sqrt(R.size))\n",
    "    C = R.reshape((n,n))\n",
    "    #plt.matshow(C, cmap = 'summer')\n",
    "    #ax = plt.gca()\n",
    "    #xlabels = ['0']+nameList\n",
    "    #ylabels = xlabels\n",
    "    #ax.set_xticklabels(xlabels)\n",
    "    #ax.set_yticklabels(ylabels)\n",
    "    print(\"{: ^10}\".format(' '),end=' ')\n",
    "    for name in nameList:\n",
    "        print(\"{: ^10}\".format(name),end=' ')\n",
    "    print('\\n')\n",
    "    for i in range(0,n):\n",
    "        print(\"{: <10}\".format(nameList[i]),end=' ')\n",
    "        for j in range(0,n):\n",
    "            #plt.text(j,i, round(C[i,j],2), horizontalalignment='center', verticalalignment='center')\n",
    "            if type(flatDistances[j+(i*n)])==float:\n",
    "                print(\"{: ^10.2f}\".format(flatDistances[j+(i*n)]),end=' ')\n",
    "            else:\n",
    "                print(\"{: ^10}\".format(flatDistances[j+(i*n)]),end=' ')\n",
    "        print('\\n')\n",
    "    #plt.show()"
   ]
  },
  {
   "cell_type": "code",
   "execution_count": 85,
   "metadata": {},
   "outputs": [
    {
     "name": "stdout",
     "output_type": "stream",
     "text": [
      "            Hindley   Catherine    Cathy    Heathcliff  Hareton     Edgar     Isabella  \n",
      "\n",
      "Hindley        0       57064.44   50544.79   50938.81   71001.92   35936.03   32632.77  \n",
      "\n",
      "Catherine   57064.44      0       49950.26   53565.18   52648.36   48684.54   48117.04  \n",
      "\n",
      "Cathy       50544.79   49950.26      0       52173.06   55432.11   45687.68   44614.33  \n",
      "\n",
      "Heathcliff  50938.81   53565.18   52173.06      0       59516.00   46792.99   45332.24  \n",
      "\n",
      "Hareton     71001.92   52648.36   55432.11   59516.00      0       59624.88   60283.12  \n",
      "\n",
      "Edgar       35936.03   48684.54   45687.68   46792.99   59624.88      0       30160.13  \n",
      "\n",
      "Isabella    32632.77   48117.04   44614.33   45332.24   60283.12   30160.13      0      \n",
      "\n"
     ]
    }
   ],
   "source": [
    "getResults(wutheringHeightsDocs,['Hindley','Catherine','Cathy','Heathcliff','Hareton','Edgar','Isabella'])"
   ]
  },
  {
   "cell_type": "code",
   "execution_count": 119,
   "metadata": {},
   "outputs": [
    {
     "name": "stdout",
     "output_type": "stream",
     "text": [
      "              Jane    Rochester     John      Helen     Rosamond     Mary      Eliza    \n",
      "\n",
      "Jane           0       73509.71   83380.48  117774.96   72589.11   77949.43   90010.99  \n",
      "\n",
      "Rochester   73509.71      0       89339.08   91529.52   86826.75   83329.91   71642.94  \n",
      "\n",
      "John        83380.48   89339.08      0      145422.52   51832.43   68136.98  114951.44  \n",
      "\n",
      "Helen      117774.96   91529.52  145422.52      0      170952.35  148481.36   67962.01  \n",
      "\n",
      "Rosamond    72589.11   86826.75   51832.43  170952.35      0       42853.51  125561.96  \n",
      "\n",
      "Mary        77949.43   83329.91   68136.98  148481.36   42853.51      0      114375.59  \n",
      "\n",
      "Eliza       90010.99   71642.94  114951.44   67962.01  125561.96  114375.59      0      \n",
      "\n"
     ]
    }
   ],
   "source": [
    "getResults(janeEyreDocs,['Jane','Rochester','John','Helen','Rosamond','Mary','Eliza'])"
   ]
  },
  {
   "cell_type": "markdown",
   "metadata": {},
   "source": [
    "#### Discussion:\n",
    "- We can see the values of distance in _Jane Eyre_ are lager than in _Wuthering Heights_. The larger distances means that the two characters are more apart. Therefore, we can find that the relationship between Jane Eyre's characters is looser, while the relationship between the characters in _Wuthering Heights_ is closer. This is because the story of _Wuthering Heights_ is very complex, all the characters are intertwined, while the characters in _Jane Eyre_ appear because of Jane.\n",
    "- This method has some limitation, because some characters in _Wuthering Heights_ have the same name. It is hard to identify who exactly is, unless people annotate it."
   ]
  },
  {
   "cell_type": "markdown",
   "metadata": {},
   "source": [
    "### Social Network"
   ]
  },
  {
   "cell_type": "code",
   "execution_count": 87,
   "metadata": {},
   "outputs": [],
   "source": [
    "WHNames=['Hindley','Catherine','Cathy','Heathcliff','Hareton','Edgar','Isabella']"
   ]
  },
  {
   "cell_type": "code",
   "execution_count": 117,
   "metadata": {},
   "outputs": [],
   "source": [
    "JENames=['Jane','Rochester','John','Helen','Rosamond','Mary','Eliza']"
   ]
  },
  {
   "cell_type": "code",
   "execution_count": 89,
   "metadata": {},
   "outputs": [],
   "source": [
    "wutheringHeightsParas=wutheringHeights.split('\\n\\n')"
   ]
  },
  {
   "cell_type": "code",
   "execution_count": 90,
   "metadata": {},
   "outputs": [],
   "source": [
    "janeEyreParas=janeEyre.split('\\n\\n')"
   ]
  },
  {
   "cell_type": "code",
   "execution_count": 115,
   "metadata": {},
   "outputs": [],
   "source": [
    "def getSocialNetwork(names,paras):\n",
    "    combs = list(combinations(names, 2))\n",
    "    counter = {comb: 0 for comb in combs}\n",
    "    for para in paras: \n",
    "        for comb in combs: \n",
    "            if comb[0] in para and comb[1] in para: \n",
    "                counter[comb] += 1\n",
    "    namesTuples = [(pair[0], pair[1], n) \n",
    "               for pair, n in counter.items()]\n",
    "    socialGraph = nx.Graph()\n",
    "    socialGraph.add_nodes_from(names)\n",
    "    socialGraph.add_weighted_edges_from(namesTuples)\n",
    "    weightsOnly = [t[2]/4 for t in namesTuples]\n",
    "    nx.draw_networkx(socialGraph, \n",
    "                     width=weightsOnly,\n",
    "                     node_color = 'pink',alpha=0.6, edge_color='red')"
   ]
  },
  {
   "cell_type": "code",
   "execution_count": 147,
   "metadata": {},
   "outputs": [
    {
     "data": {
      "image/png": "[encoded data removed]",
      "text/plain": [
       "<Figure size 576x576 with 2 Axes>"
      ]
     },
     "metadata": {},
     "output_type": "display_data"
    }
   ],
   "source": [
    "plt.rcParams['figure.figsize'] = [8, 8]\n",
    "plt.subplot(2,2,1)\n",
    "getSocialNetwork(WHNames,wutheringHeightsParas)\n",
    "plt.subplot(2,2,2)\n",
    "getSocialNetwork(JENames,janeEyreParas)\n",
    "plt.show()"
   ]
  },
  {
   "cell_type": "markdown",
   "metadata": {},
   "source": [
    "#### Discussion:\n",
    "- We can find that the relationship between the characters in _Wuthering Heights_ is centered on Catherine and Heathcliff. Each people have complicated relationship with almost all other people. _Jane Eyre_ formed a social network with Jane as its core. The relationships in _Jane Eyre_ are weaker than in _Wuthering Heights_. Since _Wuthering Heights_ is a long story that has gone through 20 years and almost every oe have some relationship with other characters."
   ]
  },
  {
   "cell_type": "markdown",
   "metadata": {},
   "source": [
    "# Conclusion"
   ]
  },
  {
   "cell_type": "markdown",
   "metadata": {},
   "source": [
    "Through the above experimental analysis, it is true that _Jane Eyre_ and _Wuthering Heights_ are different in content, emotion, writing style and etc. Meanwhile, they also have some sort of similarity.\n",
    "_Wuthering Height_ tells the story of Heathcliff, an abandoned boy, who was adopted by the old master of Wuthering Heights. He left the height because he was abused by his brother after his father died and the girl he loved, Catherine, get married to Edgar. Then he became rich and returned to the heights and start his crazy revenge. The whole story is full of a firm spirit, reacting against their oppressors, which expresses the unyielding determination of never give in and the spirit of revolt of the people at the bottom class. Also, it is always covered with a strange romantic atmosphere. At the end of this novel, Heathcliff gives up his revenge and died. Cathy and Hareton fall in love and finally live with hope. This plot shows the recovery of human nature and the yearning for love, hope, and a happy life. _Jane Eyre_ is an autobiographical novel, telling the story of Jane Eyre's life, from her miserable childhood to her romantic love with Mr. Rochester, which emphasizes on equality, dignity, respect, and love. _Jane Eyre_ express the purity dream to romantic love, and the desire for freedom and equality love, reflecting the pursuit of equality of people at the bottom class in the 19th.\n",
    "\n",
    "As for the contents of the two stories, although they are almost totally different, some main contents are similar. They all talk about love, the revolt of bottom class people and the pursuit of a happy life. Moreover, their motifs are more similar, the pursuit of love, hope, and equality. This may be because the authors, the two sisters, are typical bottom class people, living in poverty. They long for romantic love and have the thought of equality. It can be said that these two works were masterpieces in the 19th because they both reflected the social problems of the British social class system and hierarchical oppression at that time. They expressed the theme that people at the bottom should pursue equality, which is significant at that time. The minor difference is that _Jane Eyre_ moderate advocates for equality, while _Wuthering Heights_ is more radical, which hold the notion that in order to achieve equality, revolt and revenge are indispensable.\n",
    "\n",
    "Apart from that, the writing style and emotional style of those two novels are do have differences. _Jane Eyre_ is more positive, while _Wuthering Heights_ is more negative. _Jane Eyre_ used the first-person narration, while _Wuthering Heights_ used the third-person narration. _Jane Eyre_ used analogies and dialogs more than _Wuthering Heights_. These differences in writing style led to different feedbacks of the two books at the beginning. _Jane Eyre_'s first-person narrative perspective and vivid analogies make the whole novel very interesting and easy to read and understand. The complex relationship between the characters in _Wuthering Heights_ and the long narration make _Wuthering Heights_ difficult for readers to read and understand. At the same time, _Jane Eyre_ is more positive, which makes readers accept this novel, and appreciates this work easily. However, the negative plots of _Wuthering Heights_ made readers immersed in the negative mood, and difficult to judge the value behind the negative plots fairly. That's why _Jane Eyre_ became a bestseller immediately after the two books were published, while Wuthering Heights was been considered as a strange and crazy novel with few people like it."
   ]
  },
  {
   "cell_type": "markdown",
   "metadata": {},
   "source": [
    "Finally, is the analysis of two authors. There are many opinions about the image of Emily, but generally, they are negative. She was described as a stereotyped, conservative old virgin who likes to walk her dog or a very shy, unsociable woman who is uncomfortable when she goes out. All these points of view show that she is a strange person, avoiding society. However, Claire O'Callaghan said \"Emily herself remains an enigmatic, even mysterious figure, often painted unfairly in a negative light. What we discover is that she was, in fact, a thoroughly modern woman.\"(Claire O'Callaghan, 2018)\n",
    "\n",
    "Through experiments, I found that Emily is an introverted, and insensitive person with less emotional. But she is not a strange woman. She long for love, and she had common moral values, although she expressed them in _Wuthering Heights_ in a radical way. Her fantastic imagination made her novel different from other novels in the 19th, so people tend to regard her as a strange woman. "
   ]
  },
  {
   "cell_type": "markdown",
   "metadata": {},
   "source": [
    "The future debates about these two novels will never stop. When we appreciate these two works, we need to keep in mind that although critics keep arguing about these two novels, it is undeniable that these two works are like two gemstones with different colors, both are beautiful and shine like stars."
   ]
  },
  {
   "cell_type": "markdown",
   "metadata": {},
   "source": [
    "# Future Work"
   ]
  },
  {
   "cell_type": "markdown",
   "metadata": {},
   "source": [
    "- Find TEI files for those two novels, aimming to do more accurate analysis.\n",
    "- Compare more detailed information, for instance, color and place name appeared in these two novels.\n",
    "- Compare characters, such as their speeking style, their personality, etc."
   ]
  },
  {
   "cell_type": "markdown",
   "metadata": {},
   "source": [
    "# Reference"
   ]
  },
  {
   "cell_type": "markdown",
   "metadata": {},
   "source": [
    "[1] Reappraised, and Claire O'Callaghan. \"Emily Brontë Reappraised\". Goodreads.Com, 2019, https://www.goodreads.com/book/show/39208753-emily-bront-reappraised.\n",
    "\n",
    "[2] \"Love In \"Wuthering Heights\"\". Academic.Brooklyn.Cuny.Edu, 2019, http://academic.brooklyn.cuny.edu/english/melani/novel_19c/wuthering/love.html.\n",
    "\n",
    "[3] \"What Critics Said About Wuthering Heights\". Wuthering-Heights.Co.Uk, 2019, https://www.wuthering-heights.co.uk/wh/reviews.php.\n",
    "\n",
    "[4] Brontë, Charlotte. \"Jane Eyre: An Autobiography By Charlotte Brontë\". Project Gutenberg, 2019, http://www.gutenberg.org/ebooks/1260.\n",
    "\n",
    "[5] Brontë, Emily. \"Wuthering Heights By Emily Brontë\". Project Gutenberg, 2019, http://www.gutenberg.org/ebooks/768.\n",
    "\n",
    "[6] @unpublished{spacy2,\n",
    "    AUTHOR = {Honnibal, Matthew and Montani, Ines},\n",
    "    TITLE  = {{spaCy 2}: Natural language understanding with {B}loom embeddings, convolutional neural networks and incremental parsing},\n",
    "    YEAR   = {2017},\n",
    "    Note   = {To appear}\n",
    "}\n",
    "\n",
    "[7] \"Jane Eyre Vs Wuthering Heights.\" UKEssays.com. 11 2018. All Answers Ltd. 08 2019 <https://www.ukessays.com/essays/english-literature/jane-eyre-vs-wuthering-heights-english-literature-essay.php?vref=1>."
   ]
  }
 ],
 "metadata": {
  "kernelspec": {
   "display_name": "Python 3",
   "language": "python",
   "name": "python3"
  },
  "language_info": {
   "codemirror_mode": {
    "name": "ipython",
    "version": 3
   },
   "file_extension": ".py",
   "mimetype": "text/x-python",
   "name": "python",
   "nbconvert_exporter": "python",
   "pygments_lexer": "ipython3",
   "version": "3.7.3"
  }
 },
 "nbformat": 4,
 "nbformat_minor": 2
}
